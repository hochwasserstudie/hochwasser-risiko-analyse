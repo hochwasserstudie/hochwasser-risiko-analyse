{
  "cells": [
    {
      "cell_type": "code",
      "execution_count": 1,
      "metadata": {
        "colab": {
          "base_uri": "https://localhost:8080/",
          "height": 356
        },
        "id": "f4ac-29OldWf",
        "outputId": "80134e71-3e80-4bba-acba-ef7ddd9da1bc"
      },
      "outputs": [
        {
          "output_type": "error",
          "ename": "MessageError",
          "evalue": "Error: credential propagation was unsuccessful",
          "traceback": [
            "\u001b[0;31m---------------------------------------------------------------------------\u001b[0m",
            "\u001b[0;31mMessageError\u001b[0m                              Traceback (most recent call last)",
            "\u001b[0;32m<ipython-input-1-42b10c798cd9>\u001b[0m in \u001b[0;36m<cell line: 0>\u001b[0;34m()\u001b[0m\n\u001b[1;32m      5\u001b[0m \u001b[0;34m\u001b[0m\u001b[0m\n\u001b[1;32m      6\u001b[0m \u001b[0;31m# Google Drive verbinden\u001b[0m\u001b[0;34m\u001b[0m\u001b[0;34m\u001b[0m\u001b[0m\n\u001b[0;32m----> 7\u001b[0;31m \u001b[0mdrive\u001b[0m\u001b[0;34m.\u001b[0m\u001b[0mmount\u001b[0m\u001b[0;34m(\u001b[0m\u001b[0;34m'/content/drive'\u001b[0m\u001b[0;34m)\u001b[0m\u001b[0;34m\u001b[0m\u001b[0;34m\u001b[0m\u001b[0m\n\u001b[0m\u001b[1;32m      8\u001b[0m \u001b[0;34m\u001b[0m\u001b[0m\n\u001b[1;32m      9\u001b[0m \u001b[0;34m\u001b[0m\u001b[0m\n",
            "\u001b[0;32m/usr/local/lib/python3.11/dist-packages/google/colab/drive.py\u001b[0m in \u001b[0;36mmount\u001b[0;34m(mountpoint, force_remount, timeout_ms, readonly)\u001b[0m\n\u001b[1;32m     98\u001b[0m \u001b[0;32mdef\u001b[0m \u001b[0mmount\u001b[0m\u001b[0;34m(\u001b[0m\u001b[0mmountpoint\u001b[0m\u001b[0;34m,\u001b[0m \u001b[0mforce_remount\u001b[0m\u001b[0;34m=\u001b[0m\u001b[0;32mFalse\u001b[0m\u001b[0;34m,\u001b[0m \u001b[0mtimeout_ms\u001b[0m\u001b[0;34m=\u001b[0m\u001b[0;36m120000\u001b[0m\u001b[0;34m,\u001b[0m \u001b[0mreadonly\u001b[0m\u001b[0;34m=\u001b[0m\u001b[0;32mFalse\u001b[0m\u001b[0;34m)\u001b[0m\u001b[0;34m:\u001b[0m\u001b[0;34m\u001b[0m\u001b[0;34m\u001b[0m\u001b[0m\n\u001b[1;32m     99\u001b[0m   \u001b[0;34m\"\"\"Mount your Google Drive at the specified mountpoint path.\"\"\"\u001b[0m\u001b[0;34m\u001b[0m\u001b[0;34m\u001b[0m\u001b[0m\n\u001b[0;32m--> 100\u001b[0;31m   return _mount(\n\u001b[0m\u001b[1;32m    101\u001b[0m       \u001b[0mmountpoint\u001b[0m\u001b[0;34m,\u001b[0m\u001b[0;34m\u001b[0m\u001b[0;34m\u001b[0m\u001b[0m\n\u001b[1;32m    102\u001b[0m       \u001b[0mforce_remount\u001b[0m\u001b[0;34m=\u001b[0m\u001b[0mforce_remount\u001b[0m\u001b[0;34m,\u001b[0m\u001b[0;34m\u001b[0m\u001b[0;34m\u001b[0m\u001b[0m\n",
            "\u001b[0;32m/usr/local/lib/python3.11/dist-packages/google/colab/drive.py\u001b[0m in \u001b[0;36m_mount\u001b[0;34m(mountpoint, force_remount, timeout_ms, ephemeral, readonly)\u001b[0m\n\u001b[1;32m    135\u001b[0m   )\n\u001b[1;32m    136\u001b[0m   \u001b[0;32mif\u001b[0m \u001b[0mephemeral\u001b[0m\u001b[0;34m:\u001b[0m\u001b[0;34m\u001b[0m\u001b[0;34m\u001b[0m\u001b[0m\n\u001b[0;32m--> 137\u001b[0;31m     _message.blocking_request(\n\u001b[0m\u001b[1;32m    138\u001b[0m         \u001b[0;34m'request_auth'\u001b[0m\u001b[0;34m,\u001b[0m\u001b[0;34m\u001b[0m\u001b[0;34m\u001b[0m\u001b[0m\n\u001b[1;32m    139\u001b[0m         \u001b[0mrequest\u001b[0m\u001b[0;34m=\u001b[0m\u001b[0;34m{\u001b[0m\u001b[0;34m'authType'\u001b[0m\u001b[0;34m:\u001b[0m \u001b[0;34m'dfs_ephemeral'\u001b[0m\u001b[0;34m}\u001b[0m\u001b[0;34m,\u001b[0m\u001b[0;34m\u001b[0m\u001b[0;34m\u001b[0m\u001b[0m\n",
            "\u001b[0;32m/usr/local/lib/python3.11/dist-packages/google/colab/_message.py\u001b[0m in \u001b[0;36mblocking_request\u001b[0;34m(request_type, request, timeout_sec, parent)\u001b[0m\n\u001b[1;32m    174\u001b[0m       \u001b[0mrequest_type\u001b[0m\u001b[0;34m,\u001b[0m \u001b[0mrequest\u001b[0m\u001b[0;34m,\u001b[0m \u001b[0mparent\u001b[0m\u001b[0;34m=\u001b[0m\u001b[0mparent\u001b[0m\u001b[0;34m,\u001b[0m \u001b[0mexpect_reply\u001b[0m\u001b[0;34m=\u001b[0m\u001b[0;32mTrue\u001b[0m\u001b[0;34m\u001b[0m\u001b[0;34m\u001b[0m\u001b[0m\n\u001b[1;32m    175\u001b[0m   )\n\u001b[0;32m--> 176\u001b[0;31m   \u001b[0;32mreturn\u001b[0m \u001b[0mread_reply_from_input\u001b[0m\u001b[0;34m(\u001b[0m\u001b[0mrequest_id\u001b[0m\u001b[0;34m,\u001b[0m \u001b[0mtimeout_sec\u001b[0m\u001b[0;34m)\u001b[0m\u001b[0;34m\u001b[0m\u001b[0;34m\u001b[0m\u001b[0m\n\u001b[0m",
            "\u001b[0;32m/usr/local/lib/python3.11/dist-packages/google/colab/_message.py\u001b[0m in \u001b[0;36mread_reply_from_input\u001b[0;34m(message_id, timeout_sec)\u001b[0m\n\u001b[1;32m    101\u001b[0m     ):\n\u001b[1;32m    102\u001b[0m       \u001b[0;32mif\u001b[0m \u001b[0;34m'error'\u001b[0m \u001b[0;32min\u001b[0m \u001b[0mreply\u001b[0m\u001b[0;34m:\u001b[0m\u001b[0;34m\u001b[0m\u001b[0;34m\u001b[0m\u001b[0m\n\u001b[0;32m--> 103\u001b[0;31m         \u001b[0;32mraise\u001b[0m \u001b[0mMessageError\u001b[0m\u001b[0;34m(\u001b[0m\u001b[0mreply\u001b[0m\u001b[0;34m[\u001b[0m\u001b[0;34m'error'\u001b[0m\u001b[0;34m]\u001b[0m\u001b[0;34m)\u001b[0m\u001b[0;34m\u001b[0m\u001b[0;34m\u001b[0m\u001b[0m\n\u001b[0m\u001b[1;32m    104\u001b[0m       \u001b[0;32mreturn\u001b[0m \u001b[0mreply\u001b[0m\u001b[0;34m.\u001b[0m\u001b[0mget\u001b[0m\u001b[0;34m(\u001b[0m\u001b[0;34m'data'\u001b[0m\u001b[0;34m,\u001b[0m \u001b[0;32mNone\u001b[0m\u001b[0;34m)\u001b[0m\u001b[0;34m\u001b[0m\u001b[0;34m\u001b[0m\u001b[0m\n\u001b[1;32m    105\u001b[0m \u001b[0;34m\u001b[0m\u001b[0m\n",
            "\u001b[0;31mMessageError\u001b[0m: Error: credential propagation was unsuccessful"
          ]
        }
      ],
      "source": [
        "from google.colab import drive\n",
        "import os\n",
        "import re\n",
        "from collections import Counter\n",
        "\n",
        "# Google Drive verbinden\n",
        "drive.mount('/content/drive')\n",
        "\n",
        "\n",
        "# Liste der Risiko-Wörter\n",
        "risiko = [\"risik\", \"wahrscheinlich\", \"poten\", \"eintritt\", \"eingetreten\", \"ausmaß\", \"schad\", \"schäd\", \"erwart\", \"verletz\", \"schutz\", \"vulnerab\",\n",
        "          \"katastroph\", \"bewältig\", \"anpass\", \"angepasst\", \"tot\", \"gestorben\", \"sterb\", \"ausgesetzt\", \"aussetz\", \"verlust\", \"verlier\",\n",
        "          \"verlor\", \"fehler\", \"extrem\", \"knapp\", \"bedroh\", \"schutz\", \"sozi\", \"technologi\", \"ökonom\", \"gesundheit\",\n",
        "          \"maßnahme\", \"schuld\", \"fehler\", \"zukunft\", \"zukünft\", \"vorhersag\", \"einschätz\", \"unsicher\", \"gefahr\", \"gefähr\", \"individ\", \"privat\",\n",
        "          \"politi\", \"bund\", \"region\", \"kommun\", \"lokal\", \"versicher\", \"prävent\", \"verantwor\"]\n",
        "\n",
        "# Funktion, um die relative Häufigkeit der Risiko-Wörter in einem Dokument zu berechnen\n",
        "def count_risk_words_in_doc(doc_path, risk_words):\n",
        "    try:\n",
        "        with open(doc_path, 'r', encoding='utf-8') as file:\n",
        "            content = file.read().lower()  # Lese das Dokument und mache den Text klein (case insensitive)\n",
        "            words = re.findall(r'\\b\\w+\\b', content)  # Alle Wörter im Dokument extrahieren\n",
        "            total_words = len(words)  # Gesamtanzahl der Wörter im Dokument\n",
        "\n",
        "            # Zähle nur die Risiko-Wörter\n",
        "            word_counts = Counter([word for word in words if any(risk_word in word for risk_word in risk_words)])\n",
        "            risk_word_count = sum(word_counts.values())  # Anzahl der Risiko-Wörter\n",
        "\n",
        "            # Berechne die relative Häufigkeit der Risiko-Wörter (Anteil)\n",
        "            if total_words > 0:\n",
        "                relative_risk = risk_word_count / total_words\n",
        "            else:\n",
        "                relative_risk = 0  # Falls das Dokument keine Wörter enthält\n",
        "\n",
        "            return relative_risk  # Gib den relativen Anteil zurück\n",
        "\n",
        "    except Exception as e:\n",
        "        print(f\"Fehler beim Lesen der Datei {doc_path}: {e}\")\n",
        "        return 0\n",
        "\n",
        "# Funktion, um alle .txt-Dateien in einem Verzeichnis und dessen Unterordnern zu durchsuchen\n",
        "def scan_directory_for_risk_words(directory, risk_words, min_chars=1000):\n",
        "    file_risk_counts = []\n",
        "\n",
        "    # Durchsuche alle Unterordner und Dateien im angegebenen Verzeichnis\n",
        "    for subdir, _, files in os.walk(directory):\n",
        "        for file in files:\n",
        "            if file.endswith('.txt'):\n",
        "                file_path = os.path.join(subdir, file)\n",
        "\n",
        "                # Überprüfe, ob die Datei mehr als min_chars Zeichen hat\n",
        "                with open(file_path, 'r', encoding='utf-8') as f:\n",
        "                    content = f.read()\n",
        "                    if len(content) >= min_chars:\n",
        "                        # Berechne die relative Häufigkeit der Risiko-Wörter in der Datei\n",
        "                        relative_risk = count_risk_words_in_doc(file_path, risk_words)\n",
        "                        file_risk_counts.append((file_path, relative_risk))\n",
        "\n",
        "    return file_risk_counts\n",
        "\n",
        "# Funktion, um eine Rangliste der Dokumente nach relativer Risiko-Wort-Häufigkeit zu erstellen\n",
        "def create_ranking_and_save(file_risk_counts, output_path):\n",
        "    # Sortiere die Dateien nach der relativen Häufigkeit der Risiko-Wörter (absteigend)\n",
        "    sorted_file_risk_counts = sorted(file_risk_counts, key=lambda x: x[1], reverse=True)\n",
        "\n",
        "    # Speichere die Rangliste in einer neuen Textdatei\n",
        "    with open(output_path, 'w', encoding='utf-8') as output_file:\n",
        "        for file_path, risk_percentage in sorted_file_risk_counts:\n",
        "            output_file.write(f\"{file_path}: {risk_percentage:.4f} (relative Häufigkeit)\\n\")\n",
        "\n",
        "    print(f\"Die Rangliste wurde in {output_path} gespeichert.\")\n",
        "\n",
        "# Beispiel: Verzeichnis und Ausgabe-Dateipfad\n",
        "input_directory = '/content/drive/MyDrive/Zeitungsartikel_final'  # Ersetze dies durch den Pfad zu deinem Zielordner\n",
        "output_file_path = '/content/drive/MyDrive/Zeitungsartikel_final/risk_ranking1000.txt'  # Ersetze dies durch den gewünschten Ausgabepfad\n",
        "\n",
        "# Hauptteil des Codes\n",
        "file_risk_counts = scan_directory_for_risk_words(input_directory, risiko)\n",
        "create_ranking_and_save(file_risk_counts, output_file_path)\n",
        "\n",
        "# Beispiel: Verzeichnis und Ausgabe-Dateipfad\n",
        "input_directory = '/content/drive/MyDrive/Zeitungsartikel_final'  # Ersetze dies durch den Pfad zu deinem Zielordner\n",
        "output_file_path = '/content/drive/MyDrive/Zeitungsartikel_final/risk_ranking.txt'  # Ersetze dies durch den gewünschten Ausgabepfad\n"
      ]
    }
  ],
  "metadata": {
    "colab": {
      "provenance": []
    },
    "kernelspec": {
      "display_name": "Python 3",
      "name": "python3"
    },
    "language_info": {
      "name": "python"
    }
  },
  "nbformat": 4,
  "nbformat_minor": 0
}